{
  "nbformat": 4,
  "nbformat_minor": 0,
  "metadata": {
    "colab": {
      "provenance": [],
      "mount_file_id": "1tBnUX-btoXIBHCn7247zu4dvomFJrGIR",
      "authorship_tag": "ABX9TyMBcP3Y5xCs32xuhYx1s+rb",
      "include_colab_link": true
    },
    "kernelspec": {
      "name": "python3",
      "display_name": "Python 3"
    },
    "language_info": {
      "name": "python"
    }
  },
  "cells": [
    {
      "cell_type": "markdown",
      "metadata": {
        "id": "view-in-github",
        "colab_type": "text"
      },
      "source": [
        "<a href=\"https://colab.research.google.com/github/TMA040685/SHM-inator/blob/Colab/shm_model.ipynb\" target=\"_parent\"><img src=\"https://colab.research.google.com/assets/colab-badge.svg\" alt=\"Open In Colab\"/></a>"
      ]
    },
    {
      "cell_type": "markdown",
      "source": [
        "# The Simple Harmonic Motion-inator\n",
        "In this small exercise we will create a simple simulation that can produe different sine waves. We will use the programming language ***Python*** to do this.\n",
        "\n",
        "The model we will be working is\n",
        "$$\\tag{1} x = x_0\\cdot\\sin(\\omega\\cdot t)$$\n",
        "\n",
        "where $x$ is the amplitude at a given time, $x_0$ is the maximal amplitude of the simple harmonic motion and $\\omega$ is the angular frequency in radians per second and finally $t$ is the time.\n",
        "\n",
        "---\n",
        "## 1 - Read libraries\n",
        "Firstly you'll need to import some libraries to work the simulation. In order to load a libarary there are two ways. Some times we want to include the entire library this can be done like this\n",
        "\n",
        "<pre>import numpy as np</pre>\n",
        "\n",
        "in this line we start by declearing **import** then we state the name of the library, here *numpy* and finally we state that the library should be abbreaviated as *np*.\n",
        "\n",
        "This mean that when we from now on could use functions from the library calling it using ***np.pi*** would return the number pi.\n",
        "\n",
        "To solve this exercise you must load the following libraries.\n",
        "* numpy as *np*\n",
        "* matplotlib.pyplot as *plt*\n",
        "\n",
        "The library *numpy* is used to work on arrays and matrices while *matplotlib* is used for plotting results. To make the most of matplotlib you will need an additional line of code.\n",
        "\n",
        "<pre>%matplotlib inline</pre>\n",
        "\n",
        "this has to be typed after the loding of the libraries\n",
        "\n",
        "### 1.1 - Load the libraries\n",
        "In the code field below read the libraries listed above."
      ],
      "metadata": {
        "id": "_X6eL91MpQj_"
      }
    },
    {
      "cell_type": "code",
      "source": [],
      "metadata": {
        "id": "EfHtkGD_-gxW"
      },
      "execution_count": null,
      "outputs": []
    },
    {
      "cell_type": "markdown",
      "source": [
        "## 2 - Setting up the simulation\n",
        "In this section we are going to setup the simulation needed to run our sine-wave generator. We are going to need three bits of information.\n",
        "We need to define a number of points that we are to simulate, $N$, along with the frequency, $f$ and the maximal amplitude, $x_0$, of the simpel harmonic motion.\n",
        "\n",
        "This is done simply by typing\n",
        "<pre> f = 2      # Frequency in Hz</pre>\n",
        "above the $f = 2$ is a statement that we have a variable $f$ that hold a value of $2$ the hashtag indicate the start of a text comment in the code to make it easier to read.\n",
        "\n",
        "### 2.1 - Coding the initial conditions for the SHM model\n",
        "Now try to define the parameters in the code field below. You must set the values to.\n",
        "* N = 50\n",
        "* f = 2\n",
        "* x0 = 5\n",
        "\n",
        "later on you can try to change the numbers here to see what effect they have on the model.\n",
        "\n",
        "Furthermore see if you can make python calculate the angular frequency, $\\omega$, remember that\n",
        "$$\\omega = 2\\cdot\\pi\\cdot f$$\n",
        "\n",
        "you can get python to display the result of a calculation on the screen by typing:\n",
        "<pre>print(w)</pre>"
      ],
      "metadata": {
        "id": "rREWReQO-hSG"
      }
    },
    {
      "cell_type": "code",
      "source": [],
      "metadata": {
        "id": "iHihHhMuBBDi"
      },
      "execution_count": null,
      "outputs": []
    },
    {
      "cell_type": "markdown",
      "source": [
        "## 3 - Run the simulation\n",
        "This simulation is rather simple. All we need to do is to define a vector of times and then calculate a vector of amplitudes based on our times.\n",
        "\n",
        "This is where we will be using *numpy*. Numpy has a function that can create a vector that is linearly spaced between an initial and a final value in a definded number of steps. You can initate this function in the following way.\n",
        "<pre>t = np.linspace(start,end,steps)</pre>\n",
        "in our case we should start at $0$ and end at $1$. The number of steps is already defined as $N$\n",
        "\n",
        "### 3.1 - type the simulation\n",
        "Now it is you must try to type the $t$ vector as shown above. When you have successfully typed the function then make a new line and type the equation of the amplitudes as a function of time as shown in equation (1) at the top of the page."
      ],
      "metadata": {
        "id": "1NKFSoXUBB0w"
      }
    },
    {
      "cell_type": "code",
      "source": [],
      "metadata": {
        "id": "_GeZjW9ECnon"
      },
      "execution_count": null,
      "outputs": []
    },
    {
      "cell_type": "markdown",
      "source": [
        "## 4 - Plotting the results\n",
        "The final step is to plot the result this is where we apply *matplotlib* to do this we need to construct a figure. This is done in the following way, here written in code - with comments to show what the lines do.\n",
        "<pre>\n",
        "plt.figure(figsize=(12,8))                   # Create a new figure with aspect 3:2\n",
        "plt.plot(t,x, 'b-', lw=3, alpha=.4)          # Plot the data as a bold blue line that are semi-transparent\n",
        "plt.plot(t, x, 'bo')                         # Plot our 50 simulated points in blue\n",
        "plt.xlabel('Time, $t$ (s)')                  # Make a title for the x-axis\n",
        "plt.ylabel('Amplitude, $x$ (m)')             # Make a title for the y-axis\n",
        "plt.title('Sine Wave')                       # Creates a plot title\n",
        "plt.axhline(y=0, color='k', linestyle='-')   # Makes a horizontal line at y = 0\n",
        "plt.grid()                                   # Initiate the grid of the figure\n",
        "plt.xlim(0,1)                                # Sets the x-limits\n",
        "plt.savefig('SHM-model.png')                 # Creates a PNG-file with the model\n",
        "</pre>\n",
        "\n",
        "This will create a nice looking graph of your model, that could be presented in reports etc.\n",
        "### 4.1 - Make a nice graph\n",
        "When you understand how to construct figures then make a nice figure using the code field below."
      ],
      "metadata": {
        "id": "-_X7cEFMCoGw"
      }
    },
    {
      "cell_type": "code",
      "source": [],
      "metadata": {
        "id": "yJm1dFezGqBi"
      },
      "execution_count": null,
      "outputs": []
    }
  ]
}